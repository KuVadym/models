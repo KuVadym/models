{
 "cells": [
  {
   "cell_type": "code",
   "execution_count": 1,
   "id": "4b2bfe2f",
   "metadata": {},
   "outputs": [],
   "source": [
    "import tensorflow as tf\n",
    "import numpy as np\n",
    "import matplotlib.pyplot as plt"
   ]
  },
  {
   "cell_type": "code",
   "execution_count": 2,
   "id": "d53bf253",
   "metadata": {},
   "outputs": [],
   "source": [
    "from keras import layers\n",
    "from keras import models\n",
    "from keras.datasets import cifar10\n",
    "from keras.utils import to_categorical\n",
    "(train_images, train_labels), (test_images, test_labels) = cifar10.load_data()\n",
    "classes = ['airplane', 'automobile', 'bird', 'cat', 'deer', 'dog', 'frog', 'horse', 'ship', 'truck']"
   ]
  },
  {
   "cell_type": "code",
   "execution_count": 3,
   "id": "f65c1c94",
   "metadata": {},
   "outputs": [],
   "source": [
    "train_images = train_images.astype(\"float32\") / 255\n",
    "test_images = test_images.astype(\"float32\") / 255\n",
    "train_labels = to_categorical(train_labels)\n",
    "test_labels = to_categorical(test_labels)"
   ]
  },
  {
   "cell_type": "code",
   "execution_count": 13,
   "id": "5a39e40d",
   "metadata": {},
   "outputs": [],
   "source": [
    "BATCH_SIZE = 16 \n",
    "\n",
    "EPOCHS = 5\n",
    "\n",
    "COLORS = 3"
   ]
  },
  {
   "cell_type": "code",
   "execution_count": 5,
   "id": "536e036a",
   "metadata": {},
   "outputs": [],
   "source": [
    "from tensorflow import keras\n",
    "from keras.layers import Dense, Conv2D\n",
    "from keras.layers import BatchNormalization, Flatten, Dropout, MaxPooling2D, UpSampling2D\n",
    "from keras.layers import RandomFlip, RandomHeight, RandomCrop, RandomRotation, RandomZoom, RandomWidth\n",
    "from keras import Sequential\n",
    "from keras.losses import SparseCategoricalCrossentropy, CategoricalCrossentropy"
   ]
  },
  {
   "cell_type": "code",
   "execution_count": 6,
   "id": "693abc8f",
   "metadata": {},
   "outputs": [],
   "source": [
    "from tensorflow.keras.applications.resnet50 import ResNet50, preprocess_input\n",
    "from tensorflow.keras import optimizers\n",
    "\n",
    "conv_base = ResNet50(weights='imagenet', include_top=False, input_shape=(256, 256, 3))\n",
    "# conv_base.summary()"
   ]
  },
  {
   "cell_type": "code",
   "execution_count": 7,
   "id": "399c03a5",
   "metadata": {},
   "outputs": [],
   "source": [
    "model = Sequential([\n",
    "    UpSampling2D((2,2)),\n",
    "    UpSampling2D((2,2)),\n",
    "    UpSampling2D((2,2)),\n",
    "    conv_base,\n",
    "    Flatten(),\n",
    "    BatchNormalization(),\n",
    "    Dense(128, activation='relu'),\n",
    "    Dropout(0.5),\n",
    "    BatchNormalization(),\n",
    "    Dense(64, activation='relu'),\n",
    "    Dropout(0.5),\n",
    "    BatchNormalization(),\n",
    "    Dense(10, activation='softmax')\n",
    "    ])\n",
    "\n",
    "model.compile(optimizer=optimizers.RMSprop(learning_rate=2e-5), loss='categorical_crossentropy', metrics=['acc'])"
   ]
  },
  {
   "cell_type": "code",
   "execution_count": 8,
   "id": "ffab3855",
   "metadata": {},
   "outputs": [],
   "source": [
    "from keras.preprocessing.image import ImageDataGenerator\n",
    "batch_size = 50000\n",
    "data_generator = ImageDataGenerator(width_shift_range=0.1, height_shift_range=0.1, horizontal_flip=True)\n",
    "train_generator = data_generator.flow(train_images, train_labels, batch_size)\n",
    "steps_per_epoch = train_images.shape[0] // batch_size"
   ]
  },
  {
   "cell_type": "code",
   "execution_count": 9,
   "id": "1f013fc0",
   "metadata": {},
   "outputs": [],
   "source": [
    "from numpy import hstack # add Data\n",
    "from numpy import vstack # add variables\n",
    "train_images, train_label = vstack((train_images, train_generator[0][0])), vstack((train_labels, train_generator[0][1]))"
   ]
  },
  {
   "cell_type": "code",
   "execution_count": 10,
   "id": "200346ba",
   "metadata": {},
   "outputs": [
    {
     "name": "stdout",
     "output_type": "stream",
     "text": [
      "Found 24998 images belonging to 10 classes.\n"
     ]
    },
    {
     "name": "stderr",
     "output_type": "stream",
     "text": [
      "C:\\Users\\kuzik\\anaconda3\\lib\\site-packages\\PIL\\TiffImagePlugin.py:822: UserWarning: Truncated File Read\n",
      "  warnings.warn(str(msg))\n"
     ]
    }
   ],
   "source": [
    "train_datagen = ImageDataGenerator(rescale=1./255)\n",
    "\n",
    "cat_dog_generator = train_datagen.flow_from_directory(\n",
    "    r'C:\\Users\\kuzik\\Desktop\\project3\\catdog\\kagglecatsanddogs_5340\\PetImages',\n",
    "    target_size=(32, 32),\n",
    "    classes = ['airplane', 'automobile', 'bird', 'cat', 'deer', 'dog', 'frog', 'horse', 'ship', 'truck'],\n",
    "    batch_size=25000,\n",
    "    class_mode=\"binary\"\n",
    ")\n",
    "y_cat_dog_generator = cat_dog_generator[0][1]\n",
    "\n",
    "y_cat_dog = []\n",
    "for el in y_cat_dog_generator:\n",
    "    if el == 3:\n",
    "        y_cat_dog.append([0, 0, 0, 1, 0, 0, 0, 0, 0, 0])\n",
    "    if el == 5:\n",
    "        y_cat_dog.append([0, 0, 0, 0, 0, 1, 0, 0, 0, 0])\n",
    "        \n",
    "y_cat_dog = np.array(y_cat_dog, dtype=np.float32)\n",
    "\n",
    "train_images, train_label = vstack((train_images, cat_dog_generator[0][0])), vstack((train_label, y_cat_dog))"
   ]
  },
  {
   "cell_type": "code",
   "execution_count": 12,
   "id": "c4e320ff",
   "metadata": {},
   "outputs": [
    {
     "data": {
      "text/plain": [
       "((106248, 32, 32, 3), (18750, 32, 32, 3), (106248, 10), (18750, 10))"
      ]
     },
     "execution_count": 12,
     "metadata": {},
     "output_type": "execute_result"
    }
   ],
   "source": [
    "from sklearn.model_selection import train_test_split\n",
    "train_X, valid_X, train_label, valid_label = train_test_split(train_images,\n",
    "                                                              train_label,\n",
    "                                                              test_size=0.15,\n",
    "                                                              random_state=13\n",
    "                                                              )\n",
    "train_X.shape,valid_X.shape,train_label.shape,valid_label.shape"
   ]
  },
  {
   "cell_type": "code",
   "execution_count": 14,
   "id": "45370509",
   "metadata": {},
   "outputs": [
    {
     "name": "stdout",
     "output_type": "stream",
     "text": [
      "Epoch 1/5\n",
      "6641/6641 [==============================] - 1352s 200ms/step - loss: 1.4527 - acc: 0.5309 - val_loss: 0.5171 - val_acc: 0.8535\n",
      "Epoch 2/5\n",
      "6641/6641 [==============================] - 1323s 199ms/step - loss: 0.8122 - acc: 0.7649 - val_loss: 0.2866 - val_acc: 0.9151\n",
      "Epoch 3/5\n",
      "6641/6641 [==============================] - 1326s 200ms/step - loss: 0.5832 - acc: 0.8414 - val_loss: 0.2169 - val_acc: 0.9335\n",
      "Epoch 4/5\n",
      "6641/6641 [==============================] - 1320s 199ms/step - loss: 0.4485 - acc: 0.8817 - val_loss: 0.1765 - val_acc: 0.9474\n",
      "Epoch 5/5\n",
      "6641/6641 [==============================] - 1319s 199ms/step - loss: 0.3504 - acc: 0.9105 - val_loss: 0.1597 - val_acc: 0.9518\n"
     ]
    }
   ],
   "source": [
    "history = model.fit(train_X, train_label, epochs=EPOCHS, batch_size=BATCH_SIZE, validation_data=(valid_X, valid_label))"
   ]
  },
  {
   "cell_type": "code",
   "execution_count": 15,
   "id": "192074fe",
   "metadata": {},
   "outputs": [
    {
     "data": {
      "image/png": "[encoded data removed]",
      "text/plain": [
       "<Figure size 432x288 with 1 Axes>"
      ]
     },
     "metadata": {
      "needs_background": "light"
     },
     "output_type": "display_data"
    },
    {
     "data": {
      "image/png": "[encoded data removed]",
      "text/plain": [
       "<Figure size 432x288 with 1 Axes>"
      ]
     },
     "metadata": {
      "needs_background": "light"
     },
     "output_type": "display_data"
    }
   ],
   "source": [
    "import matplotlib.pyplot as plt\n",
    "acc = history.history['acc']\n",
    "val_acc = history.history['val_acc']\n",
    "loss = history.history['loss']\n",
    "val_loss = history.history['val_loss']\n",
    "epochs = range(1, len(acc) + 1)\n",
    "\n",
    "plt.title('Training and validation accuracy')\n",
    "plt.plot(epochs, acc, 'red', label='Training acc')\n",
    "plt.plot(epochs, val_acc, 'blue', label='Validation acc')\n",
    "plt.legend()\n",
    "\n",
    "plt.figure()\n",
    "plt.title('Training and validation loss')\n",
    "plt.plot(epochs, loss, 'red', label='Training loss')\n",
    "plt.plot(epochs, val_loss, 'blue', label='Validation loss')\n",
    "\n",
    "plt.legend()\n",
    "\n",
    "plt.show()"
   ]
  },
  {
   "cell_type": "markdown",
   "id": "05a9f793",
   "metadata": {},
   "source": [
    "## Щойно навчена модель"
   ]
  },
  {
   "cell_type": "code",
   "execution_count": 16,
   "id": "ddfaeac2",
   "metadata": {},
   "outputs": [
    {
     "name": "stdout",
     "output_type": "stream",
     "text": [
      "313/313 [==============================] - 26s 80ms/step - loss: 0.1904 - acc: 0.9408\n"
     ]
    }
   ],
   "source": [
    "test_loss, test_acc = model.evaluate(test_images, test_labels)"
   ]
  },
  {
   "cell_type": "code",
   "execution_count": 17,
   "id": "f8b4db3c",
   "metadata": {},
   "outputs": [
    {
     "name": "stdout",
     "output_type": "stream",
     "text": [
      "313/313 [==============================] - 25s 76ms/step\n"
     ]
    },
    {
     "data": {
      "text/plain": [
       "[[Text(0.5, 0, 'airplane'),\n",
       "  Text(1.5, 0, 'automobile'),\n",
       "  Text(2.5, 0, 'bird'),\n",
       "  Text(3.5, 0, 'cat'),\n",
       "  Text(4.5, 0, 'deer'),\n",
       "  Text(5.5, 0, 'dog'),\n",
       "  Text(6.5, 0, 'frog'),\n",
       "  Text(7.5, 0, 'horse'),\n",
       "  Text(8.5, 0, 'ship'),\n",
       "  Text(9.5, 0, 'truck')],\n",
       " [Text(0, 0.5, 'airplane'),\n",
       "  Text(0, 1.5, 'automobile'),\n",
       "  Text(0, 2.5, 'bird'),\n",
       "  Text(0, 3.5, 'cat'),\n",
       "  Text(0, 4.5, 'deer'),\n",
       "  Text(0, 5.5, 'dog'),\n",
       "  Text(0, 6.5, 'frog'),\n",
       "  Text(0, 7.5, 'horse'),\n",
       "  Text(0, 8.5, 'ship'),\n",
       "  Text(0, 9.5, 'truck')]]"
      ]
     },
     "execution_count": 17,
     "metadata": {},
     "output_type": "execute_result"
    },
    {
     "data": {
      "image/png": "[encoded data removed]",
      "text/plain": [
       "<Figure size 864x648 with 2 Axes>"
      ]
     },
     "metadata": {
      "needs_background": "light"
     },
     "output_type": "display_data"
    }
   ],
   "source": [
    "import seaborn as sns\n",
    "classes = ['airplane', 'automobile', 'bird', 'cat', 'deer', 'dog', 'frog', 'horse', 'ship', 'truck']\n",
    "\n",
    "# Predict the values from the validation dataset\n",
    "y_pred = model.predict(test_images)\n",
    "# Convert predictions classes to one hot vectors t_del\n",
    "y_pred_classes = np.argmax(y_pred,axis = 1) \n",
    "# Convert validation observations to one hot vectors\n",
    "y_true = np.argmax(test_labels,axis = 1)\n",
    "# compute the confusion matrix\n",
    "confusion_mtx = tf.math.confusion_matrix(y_true, y_pred_classes)\n",
    "\n",
    "plt.figure(figsize=(12, 9))\n",
    "c = sns.heatmap(confusion_mtx, annot=True, fmt='g')\n",
    "c.set(xticklabels=classes, yticklabels=classes)"
   ]
  },
  {
   "cell_type": "markdown",
   "id": "c52c8a88",
   "metadata": {},
   "source": [
    "## Збереження моделі і вагів"
   ]
  },
  {
   "cell_type": "code",
   "execution_count": 19,
   "id": "129865af",
   "metadata": {},
   "outputs": [],
   "source": [
    "model.save('C:/Users/kuzik/Desktop/project3/models/model_from_Susana_v3.h5')\n",
    "model.save_weights('C:/Users/kuzik/Desktop/project3/models/weights_from_Susana_v3.h5')"
   ]
  },
  {
   "cell_type": "markdown",
   "id": "8cccfdb5",
   "metadata": {},
   "source": [
    "## Тест завантаженої моделі"
   ]
  },
  {
   "cell_type": "code",
   "execution_count": 22,
   "id": "2807a2dd",
   "metadata": {},
   "outputs": [],
   "source": [
    "from keras.models import load_model\n",
    "\n",
    "reload_model = load_model(\"C:/Users/kuzik/Desktop/project3/models/model_from_Susana_v3.h5\")\n",
    "reload_model.load_weights(\"C:/Users/kuzik/Desktop/project3/models/weights_from_Susana_v3.h5\")"
   ]
  },
  {
   "cell_type": "code",
   "execution_count": 23,
   "id": "281eece0",
   "metadata": {},
   "outputs": [
    {
     "name": "stdout",
     "output_type": "stream",
     "text": [
      "313/313 [==============================] - 24s 73ms/step - loss: 0.1997 - acc: 0.9506\n"
     ]
    }
   ],
   "source": [
    "_, (test_x, test_y) = cifar10.load_data()\n",
    "\n",
    "test_x = test_x.astype(\"float32\") / 255\n",
    "test_y = to_categorical(test_y)\n",
    "\n",
    "reload_test_loss, reload_test_acc = reload_model.evaluate(test_x, test_y)"
   ]
  },
  {
   "cell_type": "code",
   "execution_count": null,
   "id": "3e277c74",
   "metadata": {},
   "outputs": [],
   "source": []
  }
 ],
 "metadata": {
  "kernelspec": {
   "display_name": "Python 3 (ipykernel)",
   "language": "python",
   "name": "python3"
  },
  "language_info": {
   "codemirror_mode": {
    "name": "ipython",
    "version": 3
   },
   "file_extension": ".py",
   "mimetype": "text/x-python",
   "name": "python",
   "nbconvert_exporter": "python",
   "pygments_lexer": "ipython3",
   "version": "3.9.12"
  }
 },
 "nbformat": 4,
 "nbformat_minor": 5
}
