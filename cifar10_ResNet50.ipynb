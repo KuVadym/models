{
 "cells": [
  {
   "cell_type": "code",
   "execution_count": 2,
   "id": "4b2bfe2f",
   "metadata": {},
   "outputs": [],
   "source": [
    "import tensorflow as tf\n",
    "import numpy as np\n",
    "import pandas as pd\n",
    "import glob\n",
    "import os\n",
    "import matplotlib.pyplot as plt\n",
    "import cv2\n",
    "import random as rd\n",
    "import skimage"
   ]
  },
  {
   "cell_type": "code",
   "execution_count": 10,
   "id": "d53bf253",
   "metadata": {},
   "outputs": [],
   "source": [
    "from keras import layers\n",
    "from keras import models\n",
    "from keras.datasets import cifar10\n",
    "from keras.utils import to_categorical\n",
    "(train_images, train_labels), (test_images, test_labels) = cifar10.load_data()\n",
    "classes = ['airplane', 'automobile', 'bird', 'cat', 'deer', 'dog', 'frog', 'horse', 'ship', 'truck']"
   ]
  },
  {
   "cell_type": "code",
   "execution_count": 11,
   "id": "f65c1c94",
   "metadata": {},
   "outputs": [],
   "source": [
    "train_images = train_images.astype(\"float32\") / 255\n",
    "test_images = test_images.astype(\"float32\") / 255\n",
    "train_labels = to_categorical(train_labels)\n",
    "test_labels = to_categorical(test_labels)"
   ]
  },
  {
   "cell_type": "code",
   "execution_count": 23,
   "id": "5a39e40d",
   "metadata": {},
   "outputs": [],
   "source": [
    "BATCH_SIZE = 32 \n",
    "\n",
    "EPOCHS = 10\n",
    "\n",
    "COLORS = 3"
   ]
  },
  {
   "cell_type": "code",
   "execution_count": 13,
   "id": "536e036a",
   "metadata": {},
   "outputs": [],
   "source": [
    "from tensorflow import keras\n",
    "from keras.layers import Dense, Conv2D\n",
    "from keras.layers import BatchNormalization, Flatten, Dropout, MaxPooling2D, UpSampling2D\n",
    "from keras.layers import RandomFlip, RandomHeight, RandomCrop, RandomRotation, RandomZoom, RandomWidth\n",
    "from keras import Sequential\n",
    "from keras.losses import SparseCategoricalCrossentropy, CategoricalCrossentropy"
   ]
  },
  {
   "cell_type": "code",
   "execution_count": 19,
   "id": "693abc8f",
   "metadata": {},
   "outputs": [
    {
     "name": "stdout",
     "output_type": "stream",
     "text": [
      "Downloading data from https://storage.googleapis.com/tensorflow/keras-applications/resnet/resnet50_weights_tf_dim_ordering_tf_kernels_notop.h5\n",
      "94765736/94765736 [==============================] - 47s 0us/step\n"
     ]
    }
   ],
   "source": [
    "from tensorflow.keras.applications.resnet50 import ResNet50, preprocess_input\n",
    "from tensorflow.keras import optimizers\n",
    "\n",
    "conv_base = ResNet50(weights='imagenet', include_top=False, input_shape=(256, 256, 3))\n",
    "# conv_base.summary()"
   ]
  },
  {
   "cell_type": "code",
   "execution_count": 20,
   "id": "399c03a5",
   "metadata": {},
   "outputs": [],
   "source": [
    "model = Sequential([\n",
    "    UpSampling2D((2,2)),\n",
    "    UpSampling2D((2,2)),\n",
    "    UpSampling2D((2,2)),\n",
    "    conv_base,\n",
    "    Flatten(),\n",
    "    BatchNormalization(),\n",
    "    Dense(128, activation='relu'),\n",
    "    Dropout(0.5),\n",
    "    BatchNormalization(),\n",
    "    Dense(64, activation='relu'),\n",
    "    Dropout(0.5),\n",
    "    BatchNormalization(),\n",
    "    Dense(10, activation='softmax')\n",
    "    ])\n",
    "\n",
    "model.compile(optimizer=optimizers.RMSprop(learning_rate=2e-5), loss='categorical_crossentropy', metrics=['acc'])"
   ]
  },
  {
   "cell_type": "code",
   "execution_count": 22,
   "id": "c4e320ff",
   "metadata": {},
   "outputs": [
    {
     "data": {
      "text/plain": [
       "((49000, 32, 32, 3), (1000, 32, 32, 3), (49000, 10), (1000, 10))"
      ]
     },
     "execution_count": 22,
     "metadata": {},
     "output_type": "execute_result"
    }
   ],
   "source": [
    "from sklearn.model_selection import train_test_split\n",
    "train_X, valid_X, train_label, valid_label = train_test_split(train_images,\n",
    "                                                              train_labels,\n",
    "                                                              test_size=0.02,\n",
    "                                                              random_state=13\n",
    "                                                              )\n",
    "train_X.shape,valid_X.shape,train_label.shape,valid_label.shape"
   ]
  },
  {
   "cell_type": "code",
   "execution_count": 24,
   "id": "45370509",
   "metadata": {},
   "outputs": [
    {
     "name": "stdout",
     "output_type": "stream",
     "text": [
      "Epoch 1/10\n",
      "WARNING:tensorflow:AutoGraph could not transform <function Model.make_train_function.<locals>.train_function at 0x00000185323765E0> and will run it as-is.\n",
      "Please report this to the TensorFlow team. When filing the bug, set the verbosity to 10 (on Linux, `export AUTOGRAPH_VERBOSITY=10`) and attach the full output.\n",
      "Cause: \n",
      "To silence this warning, decorate the function with @tf.autograph.experimental.do_not_convert\n",
      "WARNING: AutoGraph could not transform <function Model.make_train_function.<locals>.train_function at 0x00000185323765E0> and will run it as-is.\n",
      "Please report this to the TensorFlow team. When filing the bug, set the verbosity to 10 (on Linux, `export AUTOGRAPH_VERBOSITY=10`) and attach the full output.\n",
      "Cause: \n",
      "To silence this warning, decorate the function with @tf.autograph.experimental.do_not_convert\n",
      "1532/1532 [==============================] - ETA: 0s - loss: 1.4988 - acc: 0.5102WARNING:tensorflow:AutoGraph could not transform <function Model.make_test_function.<locals>.test_function at 0x000001869D78FC10> and will run it as-is.\n",
      "Please report this to the TensorFlow team. When filing the bug, set the verbosity to 10 (on Linux, `export AUTOGRAPH_VERBOSITY=10`) and attach the full output.\n",
      "Cause: closure mismatch, requested ('self', 'step_function'), but source function had ()\n",
      "To silence this warning, decorate the function with @tf.autograph.experimental.do_not_convert\n",
      "WARNING: AutoGraph could not transform <function Model.make_test_function.<locals>.test_function at 0x000001869D78FC10> and will run it as-is.\n",
      "Please report this to the TensorFlow team. When filing the bug, set the verbosity to 10 (on Linux, `export AUTOGRAPH_VERBOSITY=10`) and attach the full output.\n",
      "Cause: closure mismatch, requested ('self', 'step_function'), but source function had ()\n",
      "To silence this warning, decorate the function with @tf.autograph.experimental.do_not_convert\n",
      "1532/1532 [==============================] - 499s 306ms/step - loss: 1.4988 - acc: 0.5102 - val_loss: 0.5792 - val_acc: 0.8650\n",
      "Epoch 2/10\n",
      "1532/1532 [==============================] - 466s 304ms/step - loss: 0.8254 - acc: 0.7718 - val_loss: 0.3776 - val_acc: 0.9080\n",
      "Epoch 3/10\n",
      "1532/1532 [==============================] - 466s 304ms/step - loss: 0.5908 - acc: 0.8590 - val_loss: 0.2745 - val_acc: 0.9350\n",
      "Epoch 4/10\n",
      "1532/1532 [==============================] - 466s 304ms/step - loss: 0.4318 - acc: 0.9082 - val_loss: 0.2421 - val_acc: 0.9380\n",
      "Epoch 5/10\n",
      "1532/1532 [==============================] - 466s 304ms/step - loss: 0.3272 - acc: 0.9382 - val_loss: 0.2244 - val_acc: 0.9370\n",
      "Epoch 6/10\n",
      "1532/1532 [==============================] - 469s 306ms/step - loss: 0.2585 - acc: 0.9530 - val_loss: 0.2249 - val_acc: 0.9400\n",
      "Epoch 7/10\n",
      "1532/1532 [==============================] - 467s 305ms/step - loss: 0.2055 - acc: 0.9661 - val_loss: 0.2399 - val_acc: 0.9330\n",
      "Epoch 8/10\n",
      "1532/1532 [==============================] - 467s 305ms/step - loss: 0.1652 - acc: 0.9744 - val_loss: 0.2357 - val_acc: 0.9380\n",
      "Epoch 9/10\n",
      "1532/1532 [==============================] - 472s 308ms/step - loss: 0.1360 - acc: 0.9790 - val_loss: 0.2088 - val_acc: 0.9440\n",
      "Epoch 10/10\n",
      "1532/1532 [==============================] - 475s 310ms/step - loss: 0.1194 - acc: 0.9814 - val_loss: 0.2074 - val_acc: 0.9490\n"
     ]
    }
   ],
   "source": [
    "history = model.fit(train_X, train_label, epochs=EPOCHS, batch_size=BATCH_SIZE, validation_data=(valid_X, valid_label))"
   ]
  },
  {
   "cell_type": "code",
   "execution_count": 26,
   "id": "192074fe",
   "metadata": {},
   "outputs": [
    {
     "data": {
      "image/png": "[encoded data removed]",
      "text/plain": [
       "<Figure size 432x288 with 1 Axes>"
      ]
     },
     "metadata": {
      "needs_background": "light"
     },
     "output_type": "display_data"
    },
    {
     "data": {
      "image/png": "[encoded data removed]",
      "text/plain": [
       "<Figure size 432x288 with 1 Axes>"
      ]
     },
     "metadata": {
      "needs_background": "light"
     },
     "output_type": "display_data"
    }
   ],
   "source": [
    "import matplotlib.pyplot as plt\n",
    "acc = history.history['acc']\n",
    "val_acc = history.history['val_acc']\n",
    "loss = history.history['loss']\n",
    "val_loss = history.history['val_loss']\n",
    "epochs = range(1, len(acc) + 1)\n",
    "\n",
    "plt.title('Training and validation accuracy')\n",
    "plt.plot(epochs, acc, 'red', label='Training acc')\n",
    "plt.plot(epochs, val_acc, 'blue', label='Validation acc')\n",
    "plt.legend()\n",
    "\n",
    "plt.figure()\n",
    "plt.title('Training and validation loss')\n",
    "plt.plot(epochs, loss, 'red', label='Training loss')\n",
    "plt.plot(epochs, val_loss, 'blue', label='Validation loss')\n",
    "\n",
    "plt.legend()\n",
    "\n",
    "plt.show()"
   ]
  },
  {
   "cell_type": "markdown",
   "id": "05a9f793",
   "metadata": {},
   "source": [
    "## Щойно навчена модель"
   ]
  },
  {
   "cell_type": "code",
   "execution_count": 28,
   "id": "ddfaeac2",
   "metadata": {},
   "outputs": [
    {
     "name": "stdout",
     "output_type": "stream",
     "text": [
      "313/313 [==============================] - 26s 83ms/step - loss: 0.2379 - acc: 0.9407\n"
     ]
    }
   ],
   "source": [
    "test_loss, test_acc = model.evaluate(test_images, test_labels)"
   ]
  },
  {
   "cell_type": "code",
   "execution_count": 31,
   "id": "f8b4db3c",
   "metadata": {},
   "outputs": [
    {
     "name": "stdout",
     "output_type": "stream",
     "text": [
      "313/313 [==============================] - 24s 78ms/step\n"
     ]
    },
    {
     "data": {
      "text/plain": [
       "[[Text(0.5, 0, 'airplane'),\n",
       "  Text(1.5, 0, 'automobile'),\n",
       "  Text(2.5, 0, 'bird'),\n",
       "  Text(3.5, 0, 'cat'),\n",
       "  Text(4.5, 0, 'deer'),\n",
       "  Text(5.5, 0, 'dog'),\n",
       "  Text(6.5, 0, 'frog'),\n",
       "  Text(7.5, 0, 'horse'),\n",
       "  Text(8.5, 0, 'ship'),\n",
       "  Text(9.5, 0, 'truck')],\n",
       " [Text(0, 0.5, 'airplane'),\n",
       "  Text(0, 1.5, 'automobile'),\n",
       "  Text(0, 2.5, 'bird'),\n",
       "  Text(0, 3.5, 'cat'),\n",
       "  Text(0, 4.5, 'deer'),\n",
       "  Text(0, 5.5, 'dog'),\n",
       "  Text(0, 6.5, 'frog'),\n",
       "  Text(0, 7.5, 'horse'),\n",
       "  Text(0, 8.5, 'ship'),\n",
       "  Text(0, 9.5, 'truck')]]"
      ]
     },
     "execution_count": 31,
     "metadata": {},
     "output_type": "execute_result"
    },
    {
     "data": {
      "image/png": "[encoded data removed]",
      "text/plain": [
       "<Figure size 864x648 with 2 Axes>"
      ]
     },
     "metadata": {
      "needs_background": "light"
     },
     "output_type": "display_data"
    }
   ],
   "source": [
    "import seaborn as sns\n",
    "import numpy as np\n",
    "import tensorflow as tf\n",
    "classes = ['airplane', 'automobile', 'bird', 'cat', 'deer', 'dog', 'frog', 'horse', 'ship', 'truck']\n",
    "\n",
    "# Predict the values from the validation dataset\n",
    "y_pred = model.predict(test_images)\n",
    "# Convert predictions classes to one hot vectors t_del\n",
    "y_pred_classes = np.argmax(y_pred,axis = 1) \n",
    "# Convert validation observations to one hot vectors\n",
    "y_true = np.argmax(test_labels,axis = 1)\n",
    "# compute the confusion matrix\n",
    "confusion_mtx = tf.math.confusion_matrix(y_true, y_pred_classes)\n",
    "\n",
    "plt.figure(figsize=(12, 9))\n",
    "c = sns.heatmap(confusion_mtx, annot=True, fmt='g')\n",
    "c.set(xticklabels=classes, yticklabels=classes)"
   ]
  },
  {
   "cell_type": "markdown",
   "id": "c52c8a88",
   "metadata": {},
   "source": [
    "## Збереження моделі і вагів"
   ]
  },
  {
   "cell_type": "code",
   "execution_count": 33,
   "id": "129865af",
   "metadata": {},
   "outputs": [],
   "source": [
    "model.save('model_from_Susana.h5')\n",
    "model.save_weights('weights_from_Susana.h5')"
   ]
  },
  {
   "cell_type": "markdown",
   "id": "8cccfdb5",
   "metadata": {},
   "source": [
    "## Тест завантаженої моделі"
   ]
  },
  {
   "cell_type": "code",
   "execution_count": 35,
   "id": "2807a2dd",
   "metadata": {},
   "outputs": [],
   "source": [
    "from keras.models import load_model\n",
    "\n",
    "reload_model = load_model(\"C:/Users/kuzik/Desktop/project3/models/model_from_Susana.h5\")\n",
    "reload_model.load_weights(\"C:/Users/kuzik/Desktop/project3/models/weights_from_Susana.h5\")"
   ]
  },
  {
   "cell_type": "code",
   "execution_count": 37,
   "id": "281eece0",
   "metadata": {},
   "outputs": [
    {
     "name": "stdout",
     "output_type": "stream",
     "text": [
      "313/313 [==============================] - 26s 82ms/step - loss: 0.2379 - acc: 0.9407\n"
     ]
    }
   ],
   "source": [
    "_, (test_x, test_y) = cifar10.load_data()\n",
    "\n",
    "test_x = test_x.astype(\"float32\") / 255\n",
    "test_y = to_categorical(test_y)\n",
    "\n",
    "reload_test_loss, reload_test_acc = reload_model.evaluate(test_x, test_y)"
   ]
  },
  {
   "cell_type": "markdown",
   "id": "bb7f43d5",
   "metadata": {},
   "source": [
    "## Тест на картинках з інтернету"
   ]
  },
  {
   "cell_type": "code",
   "execution_count": 42,
   "id": "c3f4d36f",
   "metadata": {},
   "outputs": [
    {
     "name": "stdout",
     "output_type": "stream",
     "text": [
      "\n",
      "Must be: Airplane\n",
      "1/1 [==============================] - 0s 25ms/step\n",
      "1. It is airplane with 0.9918000102043152 chance\n",
      "2. It is automobile with 0.0027000000700354576 chance\n",
      "3. It is ship with 0.0012000000569969416 chance\n",
      "\n",
      "Must be: Automobile\n",
      "1/1 [==============================] - 0s 25ms/step\n",
      "1. It is cat with 0.47909998893737793 chance\n",
      "2. It is ship with 0.14800000190734863 chance\n",
      "3. It is bird with 0.11590000241994858 chance\n",
      "\n",
      "Must be: Bird\n",
      "1/1 [==============================] - 0s 25ms/step\n",
      "1. It is bird with 0.996999979019165 chance\n",
      "2. It is cat with 0.000699999975040555 chance\n",
      "3. It is truck with 0.00039999998989515007 chance\n",
      "\n",
      "Must be: Cat\n",
      "1/1 [==============================] - 0s 25ms/step\n",
      "1. It is cat with 0.9745000004768372 chance\n",
      "2. It is horse with 0.005400000140070915 chance\n",
      "3. It is frog with 0.004100000020116568 chance\n",
      "\n",
      "Must be: Deer\n",
      "1/1 [==============================] - 0s 25ms/step\n",
      "1. It is deer with 0.9916999936103821 chance\n",
      "2. It is cat with 0.0017999999690800905 chance\n",
      "3. It is horse with 0.0015999999595806003 chance\n",
      "\n",
      "Must be: Dog\n",
      "1/1 [==============================] - 0s 25ms/step\n",
      "1. It is cat with 0.4832000136375427 chance\n",
      "2. It is airplane with 0.37070000171661377 chance\n",
      "3. It is automobile with 0.030899999663233757 chance\n",
      "\n",
      "Must be: Frog\n",
      "1/1 [==============================] - 0s 26ms/step\n",
      "1. It is frog with 0.9958999752998352 chance\n",
      "2. It is cat with 0.001500000013038516 chance\n",
      "3. It is horse with 0.000699999975040555 chance\n",
      "\n",
      "Must be: Horse\n",
      "1/1 [==============================] - 0s 24ms/step\n",
      "1. It is cat with 0.4973999857902527 chance\n",
      "2. It is horse with 0.1835000067949295 chance\n",
      "3. It is dog with 0.12449999898672104 chance\n",
      "\n",
      "Must be: Ship\n",
      "1/1 [==============================] - 0s 25ms/step\n",
      "1. It is airplane with 0.9193999767303467 chance\n",
      "2. It is automobile with 0.029899999499320984 chance\n",
      "3. It is ship with 0.01899999938905239 chance\n",
      "\n",
      "Must be: Truck\n",
      "1/1 [==============================] - 0s 25ms/step\n",
      "1. It is airplane with 0.867900013923645 chance\n",
      "2. It is horse with 0.04170000180602074 chance\n",
      "3. It is ship with 0.03500000014901161 chance\n"
     ]
    }
   ],
   "source": [
    "from keras.utils import load_img, img_to_array\n",
    "from tensorflow.keras.applications.vgg19 import preprocess_input\n",
    "from tensorflow.image import resize\n",
    "from keras.models import load_model\n",
    "\n",
    "def load_image(filename):\n",
    "    img = load_img(filename)\n",
    "    img = resize(img, (32, 32))\n",
    "    img = img_to_array(img)\n",
    "    img = np.expand_dims(img, axis=0)\n",
    "    x = np.copy(img)\n",
    "    x = preprocess_input(x).astype(\"float32\") / 255\n",
    "    return x\n",
    "\n",
    "def image_classify(filename):\n",
    "    img = load_image(filename)\n",
    "    features = reload_model.predict(img)\n",
    "    top = []\n",
    "    top_num = 3\n",
    "    classes = ['airplane', 'automobile', 'bird', 'cat', 'deer', 'dog', 'frog', 'horse', 'ship', 'truck']\n",
    "    for request in range(1):  # num of foto or objects on foto\n",
    "        classes_request = classes\n",
    "        features_request = features[0]\n",
    "        rang = 1\n",
    "        for i in range(top_num):\n",
    "            pred = np.argmax(features_request)\n",
    "            top.append([rang, classes_request[pred], round(features_request[np.argmax(features_request)], 4)])\n",
    "            features_request = np.delete(features_request, np.argmax(features_request))\n",
    "            classes_request.remove(classes_request[pred])\n",
    "            rang +=1\n",
    "    i = 0\n",
    "    for el in top:\n",
    "        print(f\"{top[i][0]}. It is {top[i][1]} with {top[i][2]} chance\")\n",
    "        i += 1\n",
    "\n",
    "\n",
    "print(\"\")        \n",
    "print(\"Must be: Airplane\")\n",
    "image_classify('C:/Users/kuzik/Desktop/1.jpeg')\n",
    "print(\"\")\n",
    "print(\"Must be: Automobile\")\n",
    "image_classify('C:/Users/kuzik/Desktop/2.jpg')\n",
    "print(\"\") \n",
    "print(\"Must be: Bird\")\n",
    "image_classify('C:/Users/kuzik/Desktop/3.jfif')\n",
    "print(\"\") \n",
    "print(\"Must be: Cat\")\n",
    "image_classify('C:/Users/kuzik/Desktop/4.jfif')\n",
    "print(\"\") \n",
    "print(\"Must be: Deer\")\n",
    "image_classify('C:/Users/kuzik/Desktop/5.jfif')\n",
    "print(\"\")\n",
    "print(\"Must be: Dog\")\n",
    "image_classify('C:/Users/kuzik/Desktop/6.jfif')\n",
    "print(\"\") \n",
    "print(\"Must be: Frog\")\n",
    "image_classify('C:/Users/kuzik/Desktop/7.jfif')\n",
    "print(\"\") \n",
    "print(\"Must be: Horse\")\n",
    "image_classify('C:/Users/kuzik/Desktop/8.jfif')\n",
    "print(\"\") \n",
    "print(\"Must be: Ship\")\n",
    "image_classify('C:/Users/kuzik/Desktop/9.jfif')\n",
    "print(\"\") \n",
    "print(\"Must be: Truck\")\n",
    "image_classify('C:/Users/kuzik/Desktop/10.jfif')"
   ]
  },
  {
   "cell_type": "code",
   "execution_count": null,
   "id": "9c14634f",
   "metadata": {},
   "outputs": [],
   "source": []
  }
 ],
 "metadata": {
  "kernelspec": {
   "display_name": "Python 3 (ipykernel)",
   "language": "python",
   "name": "python3"
  },
  "language_info": {
   "codemirror_mode": {
    "name": "ipython",
    "version": 3
   },
   "file_extension": ".py",
   "mimetype": "text/x-python",
   "name": "python",
   "nbconvert_exporter": "python",
   "pygments_lexer": "ipython3",
   "version": "3.9.12"
  }
 },
 "nbformat": 4,
 "nbformat_minor": 5
}
